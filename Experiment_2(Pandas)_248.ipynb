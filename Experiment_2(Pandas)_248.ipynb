{
  "nbformat": 4,
  "nbformat_minor": 0,
  "metadata": {
    "colab": {
      "name": "Experiment 2(Pandas)-248.ipynb",
      "provenance": [],
      "collapsed_sections": [],
      "toc_visible": true,
      "authorship_tag": "ABX9TyM2DFSryrNPTY+gAK0YY+aX",
      "include_colab_link": true
    },
    "kernelspec": {
      "name": "python3",
      "display_name": "Python 3"
    }
  },
  "cells": [
    {
      "cell_type": "markdown",
      "metadata": {
        "id": "view-in-github",
        "colab_type": "text"
      },
      "source": [
        "<a href=\"https://colab.research.google.com/github/19PA1A0248/AI-Lab/blob/master/Experiment_2(Pandas)_248.ipynb\" target=\"_parent\"><img src=\"https://colab.research.google.com/assets/colab-badge.svg\" alt=\"Open In Colab\"/></a>"
      ]
    },
    {
      "cell_type": "markdown",
      "metadata": {
        "id": "5t3pAw8UGsdL",
        "colab_type": "text"
      },
      "source": [
        "#EXPERMIENT NO:-2 (PANDAS)\n"
      ]
    },
    {
      "cell_type": "code",
      "metadata": {
        "id": "2n92dJhdJaQb",
        "colab_type": "code",
        "colab": {}
      },
      "source": [
        "\n",
        "import pandas as pd\n",
        "import numpy as np\n"
      ],
      "execution_count": null,
      "outputs": []
    },
    {
      "cell_type": "markdown",
      "metadata": {
        "id": "UcjkhhvvG37Z",
        "colab_type": "text"
      },
      "source": [
        "##1) Create a Dataframe manually."
      ]
    },
    {
      "cell_type": "code",
      "metadata": {
        "id": "al2nNkGZIBnD",
        "colab_type": "code",
        "colab": {
          "base_uri": "https://localhost:8080/",
          "height": 136
        },
        "outputId": "189d80c2-de49-4727-aad1-551fd85273da"
      },
      "source": [
        "# let's see a program to create a dataframe manually\n",
        "df=pd.DataFrame({\"Roll No\":[\"EEE222\",\"EEE204\",\"EEE248\"],\"Name\":[\"D.pavan kumari\",\"A.V. Chenna krishna\",\"K.Bhavyasree\"]})\n",
        "df\n"
      ],
      "execution_count": null,
      "outputs": [
        {
          "output_type": "execute_result",
          "data": {
            "text/html": [
              "<div>\n",
              "<style scoped>\n",
              "    .dataframe tbody tr th:only-of-type {\n",
              "        vertical-align: middle;\n",
              "    }\n",
              "\n",
              "    .dataframe tbody tr th {\n",
              "        vertical-align: top;\n",
              "    }\n",
              "\n",
              "    .dataframe thead th {\n",
              "        text-align: right;\n",
              "    }\n",
              "</style>\n",
              "<table border=\"1\" class=\"dataframe\">\n",
              "  <thead>\n",
              "    <tr style=\"text-align: right;\">\n",
              "      <th></th>\n",
              "      <th>Roll No</th>\n",
              "      <th>Name</th>\n",
              "    </tr>\n",
              "  </thead>\n",
              "  <tbody>\n",
              "    <tr>\n",
              "      <th>0</th>\n",
              "      <td>EEE222</td>\n",
              "      <td>D.pavan kumari</td>\n",
              "    </tr>\n",
              "    <tr>\n",
              "      <th>1</th>\n",
              "      <td>EEE204</td>\n",
              "      <td>A.V. Chenna krishna</td>\n",
              "    </tr>\n",
              "    <tr>\n",
              "      <th>2</th>\n",
              "      <td>EEE248</td>\n",
              "      <td>K.Bhavyasree</td>\n",
              "    </tr>\n",
              "  </tbody>\n",
              "</table>\n",
              "</div>"
            ],
            "text/plain": [
              "  Roll No                 Name\n",
              "0  EEE222       D.pavan kumari\n",
              "1  EEE204  A.V. Chenna krishna\n",
              "2  EEE248         K.Bhavyasree"
            ]
          },
          "metadata": {
            "tags": []
          },
          "execution_count": 20
        }
      ]
    },
    {
      "cell_type": "markdown",
      "metadata": {
        "id": "LnFB6TQgKEdc",
        "colab_type": "text"
      },
      "source": [
        "##2) Import data into dataframe"
      ]
    },
    {
      "cell_type": "code",
      "metadata": {
        "id": "tDmhXqrcKPF-",
        "colab_type": "code",
        "colab": {
          "base_uri": "https://localhost:8080/",
          "height": 212
        },
        "outputId": "2722d1af-618d-47f4-ef28-af3f242e7535"
      },
      "source": [
        "import pandas as pd\n",
        "df=pd.read_csv(\"students_placement_data.csv\")\n",
        "df.head()\n",
        "\n"
      ],
      "execution_count": null,
      "outputs": [
        {
          "output_type": "execute_result",
          "data": {
            "text/html": [
              "<div>\n",
              "<style scoped>\n",
              "    .dataframe tbody tr th:only-of-type {\n",
              "        vertical-align: middle;\n",
              "    }\n",
              "\n",
              "    .dataframe tbody tr th {\n",
              "        vertical-align: top;\n",
              "    }\n",
              "\n",
              "    .dataframe thead th {\n",
              "        text-align: right;\n",
              "    }\n",
              "</style>\n",
              "<table border=\"1\" class=\"dataframe\">\n",
              "  <thead>\n",
              "    <tr style=\"text-align: right;\">\n",
              "      <th></th>\n",
              "      <th>Roll No</th>\n",
              "      <th>Gender</th>\n",
              "      <th>Section</th>\n",
              "      <th>SSC Percentage</th>\n",
              "      <th>inter_Diploma_percentage</th>\n",
              "      <th>B.Tech_percentage</th>\n",
              "      <th>Backlogs</th>\n",
              "      <th>registered_for_ Placement_Training</th>\n",
              "      <th>placement status</th>\n",
              "    </tr>\n",
              "  </thead>\n",
              "  <tbody>\n",
              "    <tr>\n",
              "      <th>0</th>\n",
              "      <td>1</td>\n",
              "      <td>M</td>\n",
              "      <td>A</td>\n",
              "      <td>87.3</td>\n",
              "      <td>65.3</td>\n",
              "      <td>40.00</td>\n",
              "      <td>18</td>\n",
              "      <td>NO</td>\n",
              "      <td>Not placed</td>\n",
              "    </tr>\n",
              "    <tr>\n",
              "      <th>1</th>\n",
              "      <td>2</td>\n",
              "      <td>F</td>\n",
              "      <td>A</td>\n",
              "      <td>89.0</td>\n",
              "      <td>92.4</td>\n",
              "      <td>71.45</td>\n",
              "      <td>0</td>\n",
              "      <td>yes</td>\n",
              "      <td>Placed</td>\n",
              "    </tr>\n",
              "    <tr>\n",
              "      <th>2</th>\n",
              "      <td>3</td>\n",
              "      <td>F</td>\n",
              "      <td>A</td>\n",
              "      <td>67.0</td>\n",
              "      <td>68.0</td>\n",
              "      <td>45.26</td>\n",
              "      <td>13</td>\n",
              "      <td>yes</td>\n",
              "      <td>Not placed</td>\n",
              "    </tr>\n",
              "    <tr>\n",
              "      <th>3</th>\n",
              "      <td>4</td>\n",
              "      <td>M</td>\n",
              "      <td>A</td>\n",
              "      <td>71.0</td>\n",
              "      <td>70.4</td>\n",
              "      <td>36.47</td>\n",
              "      <td>17</td>\n",
              "      <td>yes</td>\n",
              "      <td>Not placed</td>\n",
              "    </tr>\n",
              "    <tr>\n",
              "      <th>4</th>\n",
              "      <td>5</td>\n",
              "      <td>M</td>\n",
              "      <td>A</td>\n",
              "      <td>NaN</td>\n",
              "      <td>65.5</td>\n",
              "      <td>42.52</td>\n",
              "      <td>17</td>\n",
              "      <td>yes</td>\n",
              "      <td>Not placed</td>\n",
              "    </tr>\n",
              "  </tbody>\n",
              "</table>\n",
              "</div>"
            ],
            "text/plain": [
              "   Roll No Gender  ... registered_for_ Placement_Training  placement status\n",
              "0        1      M  ...                                 NO        Not placed\n",
              "1        2      F  ...                                yes            Placed\n",
              "2        3      F  ...                                yes        Not placed\n",
              "3        4      M  ...                                yes        Not placed\n",
              "4        5      M  ...                                yes        Not placed\n",
              "\n",
              "[5 rows x 9 columns]"
            ]
          },
          "metadata": {
            "tags": []
          },
          "execution_count": 21
        }
      ]
    },
    {
      "cell_type": "code",
      "metadata": {
        "id": "qOkHla78dfzi",
        "colab_type": "code",
        "colab": {
          "base_uri": "https://localhost:8080/",
          "height": 193
        },
        "outputId": "d355d014-7955-4703-a919-8669be7e7950"
      },
      "source": [
        "df.isna().any()\n"
      ],
      "execution_count": null,
      "outputs": [
        {
          "output_type": "execute_result",
          "data": {
            "text/plain": [
              "Roll No                               False\n",
              "Gender                                False\n",
              "Section                               False\n",
              "SSC Percentage                         True\n",
              "inter_Diploma_percentage              False\n",
              "B.Tech_percentage                     False\n",
              "Backlogs                              False\n",
              "registered_for_ Placement_Training     True\n",
              "placement status                      False\n",
              "dtype: bool"
            ]
          },
          "metadata": {
            "tags": []
          },
          "execution_count": 22
        }
      ]
    },
    {
      "cell_type": "code",
      "metadata": {
        "id": "9BDYJ4gdhlzv",
        "colab_type": "code",
        "colab": {
          "base_uri": "https://localhost:8080/",
          "height": 284
        },
        "outputId": "b94cbc9d-125b-4430-de00-ddfc985243ed"
      },
      "source": [
        "df.describe()\n"
      ],
      "execution_count": null,
      "outputs": [
        {
          "output_type": "execute_result",
          "data": {
            "text/html": [
              "<div>\n",
              "<style scoped>\n",
              "    .dataframe tbody tr th:only-of-type {\n",
              "        vertical-align: middle;\n",
              "    }\n",
              "\n",
              "    .dataframe tbody tr th {\n",
              "        vertical-align: top;\n",
              "    }\n",
              "\n",
              "    .dataframe thead th {\n",
              "        text-align: right;\n",
              "    }\n",
              "</style>\n",
              "<table border=\"1\" class=\"dataframe\">\n",
              "  <thead>\n",
              "    <tr style=\"text-align: right;\">\n",
              "      <th></th>\n",
              "      <th>Roll No</th>\n",
              "      <th>SSC Percentage</th>\n",
              "      <th>inter_Diploma_percentage</th>\n",
              "      <th>B.Tech_percentage</th>\n",
              "      <th>Backlogs</th>\n",
              "    </tr>\n",
              "  </thead>\n",
              "  <tbody>\n",
              "    <tr>\n",
              "      <th>count</th>\n",
              "      <td>117.000000</td>\n",
              "      <td>116.000000</td>\n",
              "      <td>117.000000</td>\n",
              "      <td>117.000000</td>\n",
              "      <td>117.000000</td>\n",
              "    </tr>\n",
              "    <tr>\n",
              "      <th>mean</th>\n",
              "      <td>59.000000</td>\n",
              "      <td>80.474569</td>\n",
              "      <td>80.772906</td>\n",
              "      <td>62.943419</td>\n",
              "      <td>4.111111</td>\n",
              "    </tr>\n",
              "    <tr>\n",
              "      <th>std</th>\n",
              "      <td>33.919021</td>\n",
              "      <td>8.836079</td>\n",
              "      <td>11.267248</td>\n",
              "      <td>12.064306</td>\n",
              "      <td>6.335148</td>\n",
              "    </tr>\n",
              "    <tr>\n",
              "      <th>min</th>\n",
              "      <td>1.000000</td>\n",
              "      <td>47.800000</td>\n",
              "      <td>52.200000</td>\n",
              "      <td>31.200000</td>\n",
              "      <td>0.000000</td>\n",
              "    </tr>\n",
              "    <tr>\n",
              "      <th>25%</th>\n",
              "      <td>30.000000</td>\n",
              "      <td>76.622500</td>\n",
              "      <td>73.400000</td>\n",
              "      <td>54.180000</td>\n",
              "      <td>0.000000</td>\n",
              "    </tr>\n",
              "    <tr>\n",
              "      <th>50%</th>\n",
              "      <td>59.000000</td>\n",
              "      <td>82.745000</td>\n",
              "      <td>83.600000</td>\n",
              "      <td>64.360000</td>\n",
              "      <td>0.000000</td>\n",
              "    </tr>\n",
              "    <tr>\n",
              "      <th>75%</th>\n",
              "      <td>88.000000</td>\n",
              "      <td>87.025000</td>\n",
              "      <td>90.000000</td>\n",
              "      <td>72.570000</td>\n",
              "      <td>7.000000</td>\n",
              "    </tr>\n",
              "    <tr>\n",
              "      <th>max</th>\n",
              "      <td>117.000000</td>\n",
              "      <td>93.660000</td>\n",
              "      <td>96.900000</td>\n",
              "      <td>88.100000</td>\n",
              "      <td>25.000000</td>\n",
              "    </tr>\n",
              "  </tbody>\n",
              "</table>\n",
              "</div>"
            ],
            "text/plain": [
              "          Roll No  SSC Percentage  ...  B.Tech_percentage    Backlogs\n",
              "count  117.000000      116.000000  ...         117.000000  117.000000\n",
              "mean    59.000000       80.474569  ...          62.943419    4.111111\n",
              "std     33.919021        8.836079  ...          12.064306    6.335148\n",
              "min      1.000000       47.800000  ...          31.200000    0.000000\n",
              "25%     30.000000       76.622500  ...          54.180000    0.000000\n",
              "50%     59.000000       82.745000  ...          64.360000    0.000000\n",
              "75%     88.000000       87.025000  ...          72.570000    7.000000\n",
              "max    117.000000       93.660000  ...          88.100000   25.000000\n",
              "\n",
              "[8 rows x 5 columns]"
            ]
          },
          "metadata": {
            "tags": []
          },
          "execution_count": 23
        }
      ]
    },
    {
      "cell_type": "markdown",
      "metadata": {
        "id": "Tko1mvHHbJ4I",
        "colab_type": "text"
      },
      "source": [
        "##3)Adding, Deleting, Modifying the rows/columns in a dataframe"
      ]
    },
    {
      "cell_type": "markdown",
      "metadata": {
        "id": "JJg02oBabhcb",
        "colab_type": "text"
      },
      "source": [
        "###3.1)Adding a column"
      ]
    },
    {
      "cell_type": "markdown",
      "metadata": {
        "id": "pQFc7terlqB8",
        "colab_type": "text"
      },
      "source": [
        "### Add an extra column \"hostler/day's scholar\" to student’s data"
      ]
    },
    {
      "cell_type": "code",
      "metadata": {
        "id": "gN343IeAbq-1",
        "colab_type": "code",
        "colab": {
          "base_uri": "https://localhost:8080/",
          "height": 195
        },
        "outputId": "460912c1-7348-45fb-e423-840a61a1c135"
      },
      "source": [
        "# Let's write a program for adding a coloumn in a dataframe.\n",
        "host_day=pd.read_csv(\"hostlers_day_scholars.csv\")\n",
        "host_day.head()\n"
      ],
      "execution_count": null,
      "outputs": [
        {
          "output_type": "execute_result",
          "data": {
            "text/html": [
              "<div>\n",
              "<style scoped>\n",
              "    .dataframe tbody tr th:only-of-type {\n",
              "        vertical-align: middle;\n",
              "    }\n",
              "\n",
              "    .dataframe tbody tr th {\n",
              "        vertical-align: top;\n",
              "    }\n",
              "\n",
              "    .dataframe thead th {\n",
              "        text-align: right;\n",
              "    }\n",
              "</style>\n",
              "<table border=\"1\" class=\"dataframe\">\n",
              "  <thead>\n",
              "    <tr style=\"text-align: right;\">\n",
              "      <th></th>\n",
              "      <th>hostler/days scholar</th>\n",
              "    </tr>\n",
              "  </thead>\n",
              "  <tbody>\n",
              "    <tr>\n",
              "      <th>0</th>\n",
              "      <td>d</td>\n",
              "    </tr>\n",
              "    <tr>\n",
              "      <th>1</th>\n",
              "      <td>d</td>\n",
              "    </tr>\n",
              "    <tr>\n",
              "      <th>2</th>\n",
              "      <td>d</td>\n",
              "    </tr>\n",
              "    <tr>\n",
              "      <th>3</th>\n",
              "      <td>d</td>\n",
              "    </tr>\n",
              "    <tr>\n",
              "      <th>4</th>\n",
              "      <td>h</td>\n",
              "    </tr>\n",
              "  </tbody>\n",
              "</table>\n",
              "</div>"
            ],
            "text/plain": [
              "  hostler/days scholar\n",
              "0                    d\n",
              "1                    d\n",
              "2                    d\n",
              "3                    d\n",
              "4                    h"
            ]
          },
          "metadata": {
            "tags": []
          },
          "execution_count": 24
        }
      ]
    },
    {
      "cell_type": "code",
      "metadata": {
        "id": "S-rwaP4SmcH3",
        "colab_type": "code",
        "colab": {
          "base_uri": "https://localhost:8080/",
          "height": 212
        },
        "outputId": "f37f1ae5-8c2c-4873-d475-34dbc1318856"
      },
      "source": [
        "df[\"hostlers/days scholar\"] = host_day.values\n",
        "df.head()\n"
      ],
      "execution_count": null,
      "outputs": [
        {
          "output_type": "execute_result",
          "data": {
            "text/html": [
              "<div>\n",
              "<style scoped>\n",
              "    .dataframe tbody tr th:only-of-type {\n",
              "        vertical-align: middle;\n",
              "    }\n",
              "\n",
              "    .dataframe tbody tr th {\n",
              "        vertical-align: top;\n",
              "    }\n",
              "\n",
              "    .dataframe thead th {\n",
              "        text-align: right;\n",
              "    }\n",
              "</style>\n",
              "<table border=\"1\" class=\"dataframe\">\n",
              "  <thead>\n",
              "    <tr style=\"text-align: right;\">\n",
              "      <th></th>\n",
              "      <th>Roll No</th>\n",
              "      <th>Gender</th>\n",
              "      <th>Section</th>\n",
              "      <th>SSC Percentage</th>\n",
              "      <th>inter_Diploma_percentage</th>\n",
              "      <th>B.Tech_percentage</th>\n",
              "      <th>Backlogs</th>\n",
              "      <th>registered_for_ Placement_Training</th>\n",
              "      <th>placement status</th>\n",
              "      <th>hostlers/days scholar</th>\n",
              "    </tr>\n",
              "  </thead>\n",
              "  <tbody>\n",
              "    <tr>\n",
              "      <th>0</th>\n",
              "      <td>1</td>\n",
              "      <td>M</td>\n",
              "      <td>A</td>\n",
              "      <td>87.3</td>\n",
              "      <td>65.3</td>\n",
              "      <td>40.00</td>\n",
              "      <td>18</td>\n",
              "      <td>NO</td>\n",
              "      <td>Not placed</td>\n",
              "      <td>d</td>\n",
              "    </tr>\n",
              "    <tr>\n",
              "      <th>1</th>\n",
              "      <td>2</td>\n",
              "      <td>F</td>\n",
              "      <td>A</td>\n",
              "      <td>89.0</td>\n",
              "      <td>92.4</td>\n",
              "      <td>71.45</td>\n",
              "      <td>0</td>\n",
              "      <td>yes</td>\n",
              "      <td>Placed</td>\n",
              "      <td>d</td>\n",
              "    </tr>\n",
              "    <tr>\n",
              "      <th>2</th>\n",
              "      <td>3</td>\n",
              "      <td>F</td>\n",
              "      <td>A</td>\n",
              "      <td>67.0</td>\n",
              "      <td>68.0</td>\n",
              "      <td>45.26</td>\n",
              "      <td>13</td>\n",
              "      <td>yes</td>\n",
              "      <td>Not placed</td>\n",
              "      <td>d</td>\n",
              "    </tr>\n",
              "    <tr>\n",
              "      <th>3</th>\n",
              "      <td>4</td>\n",
              "      <td>M</td>\n",
              "      <td>A</td>\n",
              "      <td>71.0</td>\n",
              "      <td>70.4</td>\n",
              "      <td>36.47</td>\n",
              "      <td>17</td>\n",
              "      <td>yes</td>\n",
              "      <td>Not placed</td>\n",
              "      <td>d</td>\n",
              "    </tr>\n",
              "    <tr>\n",
              "      <th>4</th>\n",
              "      <td>5</td>\n",
              "      <td>M</td>\n",
              "      <td>A</td>\n",
              "      <td>NaN</td>\n",
              "      <td>65.5</td>\n",
              "      <td>42.52</td>\n",
              "      <td>17</td>\n",
              "      <td>yes</td>\n",
              "      <td>Not placed</td>\n",
              "      <td>h</td>\n",
              "    </tr>\n",
              "  </tbody>\n",
              "</table>\n",
              "</div>"
            ],
            "text/plain": [
              "   Roll No Gender  ... placement status  hostlers/days scholar\n",
              "0        1      M  ...       Not placed                      d\n",
              "1        2      F  ...           Placed                      d\n",
              "2        3      F  ...       Not placed                      d\n",
              "3        4      M  ...       Not placed                      d\n",
              "4        5      M  ...       Not placed                      h\n",
              "\n",
              "[5 rows x 10 columns]"
            ]
          },
          "metadata": {
            "tags": []
          },
          "execution_count": 25
        }
      ]
    },
    {
      "cell_type": "markdown",
      "metadata": {
        "id": "QJC6S96bnC6S",
        "colab_type": "text"
      },
      "source": [
        "### 3.2)Deleting a column\n"
      ]
    },
    {
      "cell_type": "markdown",
      "metadata": {
        "id": "lSEFl3ULl2u7",
        "colab_type": "text"
      },
      "source": [
        " \"registered_for_ Placement_Training\" is no more needed. Can you delete it?"
      ]
    },
    {
      "cell_type": "code",
      "metadata": {
        "id": "-A4Fd5E0niZD",
        "colab_type": "code",
        "colab": {
          "base_uri": "https://localhost:8080/",
          "height": 195
        },
        "outputId": "54a49979-98ea-4585-a258-b15a5c43371b"
      },
      "source": [
        "del df[\"registered_for_ Placement_Training\"]\n",
        "df.head()"
      ],
      "execution_count": null,
      "outputs": [
        {
          "output_type": "execute_result",
          "data": {
            "text/html": [
              "<div>\n",
              "<style scoped>\n",
              "    .dataframe tbody tr th:only-of-type {\n",
              "        vertical-align: middle;\n",
              "    }\n",
              "\n",
              "    .dataframe tbody tr th {\n",
              "        vertical-align: top;\n",
              "    }\n",
              "\n",
              "    .dataframe thead th {\n",
              "        text-align: right;\n",
              "    }\n",
              "</style>\n",
              "<table border=\"1\" class=\"dataframe\">\n",
              "  <thead>\n",
              "    <tr style=\"text-align: right;\">\n",
              "      <th></th>\n",
              "      <th>Roll No</th>\n",
              "      <th>Gender</th>\n",
              "      <th>Section</th>\n",
              "      <th>SSC Percentage</th>\n",
              "      <th>inter_Diploma_percentage</th>\n",
              "      <th>B.Tech_percentage</th>\n",
              "      <th>Backlogs</th>\n",
              "      <th>placement status</th>\n",
              "      <th>hostlers/days scholar</th>\n",
              "    </tr>\n",
              "  </thead>\n",
              "  <tbody>\n",
              "    <tr>\n",
              "      <th>0</th>\n",
              "      <td>1</td>\n",
              "      <td>M</td>\n",
              "      <td>A</td>\n",
              "      <td>87.3</td>\n",
              "      <td>65.3</td>\n",
              "      <td>40.00</td>\n",
              "      <td>18</td>\n",
              "      <td>Not placed</td>\n",
              "      <td>d</td>\n",
              "    </tr>\n",
              "    <tr>\n",
              "      <th>1</th>\n",
              "      <td>2</td>\n",
              "      <td>F</td>\n",
              "      <td>A</td>\n",
              "      <td>89.0</td>\n",
              "      <td>92.4</td>\n",
              "      <td>71.45</td>\n",
              "      <td>0</td>\n",
              "      <td>Placed</td>\n",
              "      <td>d</td>\n",
              "    </tr>\n",
              "    <tr>\n",
              "      <th>2</th>\n",
              "      <td>3</td>\n",
              "      <td>F</td>\n",
              "      <td>A</td>\n",
              "      <td>67.0</td>\n",
              "      <td>68.0</td>\n",
              "      <td>45.26</td>\n",
              "      <td>13</td>\n",
              "      <td>Not placed</td>\n",
              "      <td>d</td>\n",
              "    </tr>\n",
              "    <tr>\n",
              "      <th>3</th>\n",
              "      <td>4</td>\n",
              "      <td>M</td>\n",
              "      <td>A</td>\n",
              "      <td>71.0</td>\n",
              "      <td>70.4</td>\n",
              "      <td>36.47</td>\n",
              "      <td>17</td>\n",
              "      <td>Not placed</td>\n",
              "      <td>d</td>\n",
              "    </tr>\n",
              "    <tr>\n",
              "      <th>4</th>\n",
              "      <td>5</td>\n",
              "      <td>M</td>\n",
              "      <td>A</td>\n",
              "      <td>NaN</td>\n",
              "      <td>65.5</td>\n",
              "      <td>42.52</td>\n",
              "      <td>17</td>\n",
              "      <td>Not placed</td>\n",
              "      <td>h</td>\n",
              "    </tr>\n",
              "  </tbody>\n",
              "</table>\n",
              "</div>"
            ],
            "text/plain": [
              "   Roll No Gender Section  ...  Backlogs  placement status  hostlers/days scholar\n",
              "0        1      M       A  ...        18        Not placed                      d\n",
              "1        2      F       A  ...         0            Placed                      d\n",
              "2        3      F       A  ...        13        Not placed                      d\n",
              "3        4      M       A  ...        17        Not placed                      d\n",
              "4        5      M       A  ...        17        Not placed                      h\n",
              "\n",
              "[5 rows x 9 columns]"
            ]
          },
          "metadata": {
            "tags": []
          },
          "execution_count": 26
        }
      ]
    },
    {
      "cell_type": "markdown",
      "metadata": {
        "id": "9Gp5CrfK1hYu",
        "colab_type": "text"
      },
      "source": [
        "### 3.3)Adding a row"
      ]
    },
    {
      "cell_type": "markdown",
      "metadata": {
        "id": "cTfGY21jmZGl",
        "colab_type": "text"
      },
      "source": [
        "A new student got transferred from SVECW to VIT. Can you add her information?\n",
        "\n",
        "Her details\n",
        "\n",
        "'Roll No': 118\n",
        "\n",
        "'Gender': F\n",
        "\n",
        "'Section': C\n",
        "\n",
        "SSC Percentage' 98.4\n",
        "\n",
        "'inter_Diploma_percentage':99\n",
        "\n",
        "'B.Tech_percentage':75\n",
        "\n",
        "'Backlogs': 0\n",
        "\n",
        "'registered_for_ Placement_Training': Not applicable\n",
        "\n",
        "'hostler/day's scholar': hostler\n",
        "\n",
        "'placement status': Not placed\n"
      ]
    },
    {
      "cell_type": "code",
      "metadata": {
        "id": "-zpHFFrJ25RV",
        "colab_type": "code",
        "colab": {
          "base_uri": "https://localhost:8080/",
          "height": 114
        },
        "outputId": "5f221ba1-7a4b-4fb1-c6eb-94ee9ed86b89"
      },
      "source": [
        "#Let's create a dataframe with her details\n",
        "df1 = pd.DataFrame({\"Rollno\":[118],\"Gender\":[\"F\"],\"Section\":[\"C\"],\"SSC Percentage\":[98.4],\"inter_Diploma_peecentage\":[99],\"B.Tech_percentage\":[75],\"Backlogs\":[0],\"registered_for_Placement_Training\":[\"Not applicable\"],\"hostler/day's scholar\":[\"hostler\"],\"placement_status\":[\"Not placed\"]})\n",
        "df1"
      ],
      "execution_count": null,
      "outputs": [
        {
          "output_type": "execute_result",
          "data": {
            "text/html": [
              "<div>\n",
              "<style scoped>\n",
              "    .dataframe tbody tr th:only-of-type {\n",
              "        vertical-align: middle;\n",
              "    }\n",
              "\n",
              "    .dataframe tbody tr th {\n",
              "        vertical-align: top;\n",
              "    }\n",
              "\n",
              "    .dataframe thead th {\n",
              "        text-align: right;\n",
              "    }\n",
              "</style>\n",
              "<table border=\"1\" class=\"dataframe\">\n",
              "  <thead>\n",
              "    <tr style=\"text-align: right;\">\n",
              "      <th></th>\n",
              "      <th>Rollno</th>\n",
              "      <th>Gender</th>\n",
              "      <th>Section</th>\n",
              "      <th>SSC Percentage</th>\n",
              "      <th>inter_Diploma_peecentage</th>\n",
              "      <th>B.Tech_percentage</th>\n",
              "      <th>Backlogs</th>\n",
              "      <th>registered_for_Placement_Training</th>\n",
              "      <th>hostler/day's scholar</th>\n",
              "      <th>placement_status</th>\n",
              "    </tr>\n",
              "  </thead>\n",
              "  <tbody>\n",
              "    <tr>\n",
              "      <th>0</th>\n",
              "      <td>118</td>\n",
              "      <td>F</td>\n",
              "      <td>C</td>\n",
              "      <td>98.4</td>\n",
              "      <td>99</td>\n",
              "      <td>75</td>\n",
              "      <td>0</td>\n",
              "      <td>Not applicable</td>\n",
              "      <td>hostler</td>\n",
              "      <td>Not placed</td>\n",
              "    </tr>\n",
              "  </tbody>\n",
              "</table>\n",
              "</div>"
            ],
            "text/plain": [
              "   Rollno Gender  ... hostler/day's scholar  placement_status\n",
              "0     118      F  ...               hostler        Not placed\n",
              "\n",
              "[1 rows x 10 columns]"
            ]
          },
          "metadata": {
            "tags": []
          },
          "execution_count": 27
        }
      ]
    },
    {
      "cell_type": "code",
      "metadata": {
        "id": "fDdVJD2X8-7R",
        "colab_type": "code",
        "colab": {
          "base_uri": "https://localhost:8080/",
          "height": 212
        },
        "outputId": "5313b9e2-0264-4e61-e943-da6925be4a8a"
      },
      "source": [
        "#Let's write a program to append the data\n",
        "import pandas as pd\n",
        "df = df.append(df1)\n",
        "df.head()"
      ],
      "execution_count": null,
      "outputs": [
        {
          "output_type": "execute_result",
          "data": {
            "text/html": [
              "<div>\n",
              "<style scoped>\n",
              "    .dataframe tbody tr th:only-of-type {\n",
              "        vertical-align: middle;\n",
              "    }\n",
              "\n",
              "    .dataframe tbody tr th {\n",
              "        vertical-align: top;\n",
              "    }\n",
              "\n",
              "    .dataframe thead th {\n",
              "        text-align: right;\n",
              "    }\n",
              "</style>\n",
              "<table border=\"1\" class=\"dataframe\">\n",
              "  <thead>\n",
              "    <tr style=\"text-align: right;\">\n",
              "      <th></th>\n",
              "      <th>Roll No</th>\n",
              "      <th>Gender</th>\n",
              "      <th>Section</th>\n",
              "      <th>SSC Percentage</th>\n",
              "      <th>inter_Diploma_percentage</th>\n",
              "      <th>B.Tech_percentage</th>\n",
              "      <th>Backlogs</th>\n",
              "      <th>placement status</th>\n",
              "      <th>hostlers/days scholar</th>\n",
              "      <th>hostler/days scholar</th>\n",
              "    </tr>\n",
              "  </thead>\n",
              "  <tbody>\n",
              "    <tr>\n",
              "      <th>0</th>\n",
              "      <td>1</td>\n",
              "      <td>M</td>\n",
              "      <td>A</td>\n",
              "      <td>87.3</td>\n",
              "      <td>65.3</td>\n",
              "      <td>40.05</td>\n",
              "      <td>18</td>\n",
              "      <td>Not placed</td>\n",
              "      <td>d</td>\n",
              "      <td>NaN</td>\n",
              "    </tr>\n",
              "    <tr>\n",
              "      <th>1</th>\n",
              "      <td>2</td>\n",
              "      <td>F</td>\n",
              "      <td>A</td>\n",
              "      <td>89.0</td>\n",
              "      <td>92.4</td>\n",
              "      <td>71.45</td>\n",
              "      <td>0</td>\n",
              "      <td>Placed</td>\n",
              "      <td>d</td>\n",
              "      <td>NaN</td>\n",
              "    </tr>\n",
              "    <tr>\n",
              "      <th>2</th>\n",
              "      <td>3</td>\n",
              "      <td>F</td>\n",
              "      <td>A</td>\n",
              "      <td>67.0</td>\n",
              "      <td>68.0</td>\n",
              "      <td>45.31</td>\n",
              "      <td>13</td>\n",
              "      <td>Not placed</td>\n",
              "      <td>d</td>\n",
              "      <td>NaN</td>\n",
              "    </tr>\n",
              "    <tr>\n",
              "      <th>3</th>\n",
              "      <td>4</td>\n",
              "      <td>M</td>\n",
              "      <td>A</td>\n",
              "      <td>71.0</td>\n",
              "      <td>70.4</td>\n",
              "      <td>36.52</td>\n",
              "      <td>17</td>\n",
              "      <td>Not placed</td>\n",
              "      <td>d</td>\n",
              "      <td>NaN</td>\n",
              "    </tr>\n",
              "    <tr>\n",
              "      <th>4</th>\n",
              "      <td>5</td>\n",
              "      <td>M</td>\n",
              "      <td>A</td>\n",
              "      <td>NaN</td>\n",
              "      <td>65.5</td>\n",
              "      <td>42.57</td>\n",
              "      <td>17</td>\n",
              "      <td>Not placed</td>\n",
              "      <td>h</td>\n",
              "      <td>NaN</td>\n",
              "    </tr>\n",
              "  </tbody>\n",
              "</table>\n",
              "</div>"
            ],
            "text/plain": [
              "   Roll No Gender  ... hostlers/days scholar  hostler/days scholar\n",
              "0        1      M  ...                     d                   NaN\n",
              "1        2      F  ...                     d                   NaN\n",
              "2        3      F  ...                     d                   NaN\n",
              "3        4      M  ...                     d                   NaN\n",
              "4        5      M  ...                     h                   NaN\n",
              "\n",
              "[5 rows x 10 columns]"
            ]
          },
          "metadata": {
            "tags": []
          },
          "execution_count": 36
        }
      ]
    },
    {
      "cell_type": "markdown",
      "metadata": {
        "id": "C2bUfWe897jk",
        "colab_type": "text"
      },
      "source": [
        "### 3.4)Deleting a row"
      ]
    },
    {
      "cell_type": "markdown",
      "metadata": {
        "id": "keWG6wX6nXCo",
        "colab_type": "text"
      },
      "source": [
        " Roll number 4 got transferred to another college. Now his information is no more needed. Now delete roll number 4 information.\n"
      ]
    },
    {
      "cell_type": "code",
      "metadata": {
        "id": "gXeGW2HB-CSP",
        "colab_type": "code",
        "colab": {
          "base_uri": "https://localhost:8080/",
          "height": 212
        },
        "outputId": "a23c0a1e-a095-4abe-df10-b9b6bd200926"
      },
      "source": [
        "#let's write a program for the deletion of rows in a dataframe\n",
        "df=df.drop(3)\n",
        "df.head()"
      ],
      "execution_count": null,
      "outputs": [
        {
          "output_type": "execute_result",
          "data": {
            "text/html": [
              "<div>\n",
              "<style scoped>\n",
              "    .dataframe tbody tr th:only-of-type {\n",
              "        vertical-align: middle;\n",
              "    }\n",
              "\n",
              "    .dataframe tbody tr th {\n",
              "        vertical-align: top;\n",
              "    }\n",
              "\n",
              "    .dataframe thead th {\n",
              "        text-align: right;\n",
              "    }\n",
              "</style>\n",
              "<table border=\"1\" class=\"dataframe\">\n",
              "  <thead>\n",
              "    <tr style=\"text-align: right;\">\n",
              "      <th></th>\n",
              "      <th>Roll No</th>\n",
              "      <th>Gender</th>\n",
              "      <th>Section</th>\n",
              "      <th>SSC Percentage</th>\n",
              "      <th>inter_Diploma_percentage</th>\n",
              "      <th>B.Tech_percentage</th>\n",
              "      <th>Backlogs</th>\n",
              "      <th>placement status</th>\n",
              "      <th>hostlers/days scholar</th>\n",
              "      <th>hostler/days scholar</th>\n",
              "    </tr>\n",
              "  </thead>\n",
              "  <tbody>\n",
              "    <tr>\n",
              "      <th>0</th>\n",
              "      <td>1</td>\n",
              "      <td>M</td>\n",
              "      <td>A</td>\n",
              "      <td>87.30</td>\n",
              "      <td>65.3</td>\n",
              "      <td>40.05</td>\n",
              "      <td>18</td>\n",
              "      <td>Not placed</td>\n",
              "      <td>d</td>\n",
              "      <td>NaN</td>\n",
              "    </tr>\n",
              "    <tr>\n",
              "      <th>1</th>\n",
              "      <td>2</td>\n",
              "      <td>F</td>\n",
              "      <td>A</td>\n",
              "      <td>89.00</td>\n",
              "      <td>92.4</td>\n",
              "      <td>71.45</td>\n",
              "      <td>0</td>\n",
              "      <td>Placed</td>\n",
              "      <td>d</td>\n",
              "      <td>NaN</td>\n",
              "    </tr>\n",
              "    <tr>\n",
              "      <th>2</th>\n",
              "      <td>3</td>\n",
              "      <td>F</td>\n",
              "      <td>A</td>\n",
              "      <td>67.00</td>\n",
              "      <td>68.0</td>\n",
              "      <td>45.31</td>\n",
              "      <td>13</td>\n",
              "      <td>Not placed</td>\n",
              "      <td>d</td>\n",
              "      <td>NaN</td>\n",
              "    </tr>\n",
              "    <tr>\n",
              "      <th>4</th>\n",
              "      <td>5</td>\n",
              "      <td>M</td>\n",
              "      <td>A</td>\n",
              "      <td>NaN</td>\n",
              "      <td>65.5</td>\n",
              "      <td>42.57</td>\n",
              "      <td>17</td>\n",
              "      <td>Not placed</td>\n",
              "      <td>h</td>\n",
              "      <td>NaN</td>\n",
              "    </tr>\n",
              "    <tr>\n",
              "      <th>5</th>\n",
              "      <td>6</td>\n",
              "      <td>M</td>\n",
              "      <td>A</td>\n",
              "      <td>81.26</td>\n",
              "      <td>68.0</td>\n",
              "      <td>62.25</td>\n",
              "      <td>6</td>\n",
              "      <td>Not placed</td>\n",
              "      <td>h</td>\n",
              "      <td>NaN</td>\n",
              "    </tr>\n",
              "  </tbody>\n",
              "</table>\n",
              "</div>"
            ],
            "text/plain": [
              "   Roll No Gender  ... hostlers/days scholar  hostler/days scholar\n",
              "0        1      M  ...                     d                   NaN\n",
              "1        2      F  ...                     d                   NaN\n",
              "2        3      F  ...                     d                   NaN\n",
              "4        5      M  ...                     h                   NaN\n",
              "5        6      M  ...                     h                   NaN\n",
              "\n",
              "[5 rows x 10 columns]"
            ]
          },
          "metadata": {
            "tags": []
          },
          "execution_count": 37
        }
      ]
    },
    {
      "cell_type": "markdown",
      "metadata": {
        "id": "ai6w0BxV-jKm",
        "colab_type": "text"
      },
      "source": [
        "###3.5) Modifying elements"
      ]
    },
    {
      "cell_type": "markdown",
      "metadata": {
        "id": "YIsYHIVRnmZC",
        "colab_type": "text"
      },
      "source": [
        "Roll number 2 has shifted to the hostel. Can you change her details?\n"
      ]
    },
    {
      "cell_type": "code",
      "metadata": {
        "id": "DkgpnrSA-rd8",
        "colab_type": "code",
        "colab": {
          "base_uri": "https://localhost:8080/",
          "height": 212
        },
        "outputId": "cb1ec1b6-1dc9-4fc5-bb3a-a21d03edaeb7"
      },
      "source": [
        "#let's write a program for modifying elements in a dataframe\n",
        "df.loc[1,'hostler/days scholar']=\"h\"\n",
        "df.head()"
      ],
      "execution_count": null,
      "outputs": [
        {
          "output_type": "execute_result",
          "data": {
            "text/html": [
              "<div>\n",
              "<style scoped>\n",
              "    .dataframe tbody tr th:only-of-type {\n",
              "        vertical-align: middle;\n",
              "    }\n",
              "\n",
              "    .dataframe tbody tr th {\n",
              "        vertical-align: top;\n",
              "    }\n",
              "\n",
              "    .dataframe thead th {\n",
              "        text-align: right;\n",
              "    }\n",
              "</style>\n",
              "<table border=\"1\" class=\"dataframe\">\n",
              "  <thead>\n",
              "    <tr style=\"text-align: right;\">\n",
              "      <th></th>\n",
              "      <th>Roll No</th>\n",
              "      <th>Gender</th>\n",
              "      <th>Section</th>\n",
              "      <th>SSC Percentage</th>\n",
              "      <th>inter_Diploma_percentage</th>\n",
              "      <th>B.Tech_percentage</th>\n",
              "      <th>Backlogs</th>\n",
              "      <th>placement status</th>\n",
              "      <th>hostlers/days scholar</th>\n",
              "      <th>hostler/days scholar</th>\n",
              "    </tr>\n",
              "  </thead>\n",
              "  <tbody>\n",
              "    <tr>\n",
              "      <th>0</th>\n",
              "      <td>1</td>\n",
              "      <td>M</td>\n",
              "      <td>A</td>\n",
              "      <td>87.30</td>\n",
              "      <td>65.3</td>\n",
              "      <td>40.05</td>\n",
              "      <td>18</td>\n",
              "      <td>Not placed</td>\n",
              "      <td>d</td>\n",
              "      <td>NaN</td>\n",
              "    </tr>\n",
              "    <tr>\n",
              "      <th>1</th>\n",
              "      <td>2</td>\n",
              "      <td>F</td>\n",
              "      <td>A</td>\n",
              "      <td>89.00</td>\n",
              "      <td>92.4</td>\n",
              "      <td>71.45</td>\n",
              "      <td>0</td>\n",
              "      <td>Placed</td>\n",
              "      <td>d</td>\n",
              "      <td>h</td>\n",
              "    </tr>\n",
              "    <tr>\n",
              "      <th>2</th>\n",
              "      <td>3</td>\n",
              "      <td>F</td>\n",
              "      <td>A</td>\n",
              "      <td>67.00</td>\n",
              "      <td>68.0</td>\n",
              "      <td>45.31</td>\n",
              "      <td>13</td>\n",
              "      <td>Not placed</td>\n",
              "      <td>d</td>\n",
              "      <td>NaN</td>\n",
              "    </tr>\n",
              "    <tr>\n",
              "      <th>4</th>\n",
              "      <td>5</td>\n",
              "      <td>M</td>\n",
              "      <td>A</td>\n",
              "      <td>NaN</td>\n",
              "      <td>65.5</td>\n",
              "      <td>42.57</td>\n",
              "      <td>17</td>\n",
              "      <td>Not placed</td>\n",
              "      <td>h</td>\n",
              "      <td>NaN</td>\n",
              "    </tr>\n",
              "    <tr>\n",
              "      <th>5</th>\n",
              "      <td>6</td>\n",
              "      <td>M</td>\n",
              "      <td>A</td>\n",
              "      <td>81.26</td>\n",
              "      <td>68.0</td>\n",
              "      <td>62.25</td>\n",
              "      <td>6</td>\n",
              "      <td>Not placed</td>\n",
              "      <td>h</td>\n",
              "      <td>NaN</td>\n",
              "    </tr>\n",
              "  </tbody>\n",
              "</table>\n",
              "</div>"
            ],
            "text/plain": [
              "   Roll No Gender  ... hostlers/days scholar  hostler/days scholar\n",
              "0        1      M  ...                     d                   NaN\n",
              "1        2      F  ...                     d                     h\n",
              "2        3      F  ...                     d                   NaN\n",
              "4        5      M  ...                     h                   NaN\n",
              "5        6      M  ...                     h                   NaN\n",
              "\n",
              "[5 rows x 10 columns]"
            ]
          },
          "metadata": {
            "tags": []
          },
          "execution_count": 38
        }
      ]
    },
    {
      "cell_type": "markdown",
      "metadata": {
        "id": "SiIe7lh2Wdb-",
        "colab_type": "text"
      },
      "source": [
        "## 4) Applying functions on a dataframe.\n"
      ]
    },
    {
      "cell_type": "markdown",
      "metadata": {
        "id": "_1tYILq2nt66",
        "colab_type": "text"
      },
      "source": [
        "### Say, the university has decided to give grace percentage of 0.05 to people who have less than 70% in B.tech. Can you do the same using the apply function?"
      ]
    },
    {
      "cell_type": "code",
      "metadata": {
        "id": "gXVlQ7NiW0cE",
        "colab_type": "code",
        "colab": {}
      },
      "source": [
        "def gracep(x):\n",
        "  if (x<70):\n",
        "     return (x+0.05)\n",
        "  else:\n",
        "     return (x)"
      ],
      "execution_count": null,
      "outputs": []
    },
    {
      "cell_type": "code",
      "metadata": {
        "id": "asAmFOywXhOK",
        "colab_type": "code",
        "colab": {
          "base_uri": "https://localhost:8080/",
          "height": 212
        },
        "outputId": "5b25cda6-714b-4ae5-9d15-13ac38a89db8"
      },
      "source": [
        "df[\"B.Tech_percentage\"] = df[\"B.Tech_percentage\"].apply(gracep)\n",
        "df.head()"
      ],
      "execution_count": null,
      "outputs": [
        {
          "output_type": "execute_result",
          "data": {
            "text/html": [
              "<div>\n",
              "<style scoped>\n",
              "    .dataframe tbody tr th:only-of-type {\n",
              "        vertical-align: middle;\n",
              "    }\n",
              "\n",
              "    .dataframe tbody tr th {\n",
              "        vertical-align: top;\n",
              "    }\n",
              "\n",
              "    .dataframe thead th {\n",
              "        text-align: right;\n",
              "    }\n",
              "</style>\n",
              "<table border=\"1\" class=\"dataframe\">\n",
              "  <thead>\n",
              "    <tr style=\"text-align: right;\">\n",
              "      <th></th>\n",
              "      <th>Roll No</th>\n",
              "      <th>Gender</th>\n",
              "      <th>Section</th>\n",
              "      <th>SSC Percentage</th>\n",
              "      <th>inter_Diploma_percentage</th>\n",
              "      <th>B.Tech_percentage</th>\n",
              "      <th>Backlogs</th>\n",
              "      <th>placement status</th>\n",
              "      <th>hostlers/days scholar</th>\n",
              "      <th>hostler/days scholar</th>\n",
              "    </tr>\n",
              "  </thead>\n",
              "  <tbody>\n",
              "    <tr>\n",
              "      <th>0</th>\n",
              "      <td>1</td>\n",
              "      <td>M</td>\n",
              "      <td>A</td>\n",
              "      <td>87.30</td>\n",
              "      <td>65.3</td>\n",
              "      <td>40.20</td>\n",
              "      <td>18</td>\n",
              "      <td>Not placed</td>\n",
              "      <td>d</td>\n",
              "      <td>NaN</td>\n",
              "    </tr>\n",
              "    <tr>\n",
              "      <th>1</th>\n",
              "      <td>2</td>\n",
              "      <td>F</td>\n",
              "      <td>A</td>\n",
              "      <td>89.00</td>\n",
              "      <td>92.4</td>\n",
              "      <td>71.45</td>\n",
              "      <td>0</td>\n",
              "      <td>Placed</td>\n",
              "      <td>d</td>\n",
              "      <td>h</td>\n",
              "    </tr>\n",
              "    <tr>\n",
              "      <th>2</th>\n",
              "      <td>3</td>\n",
              "      <td>F</td>\n",
              "      <td>A</td>\n",
              "      <td>67.00</td>\n",
              "      <td>68.0</td>\n",
              "      <td>45.46</td>\n",
              "      <td>13</td>\n",
              "      <td>Not placed</td>\n",
              "      <td>d</td>\n",
              "      <td>NaN</td>\n",
              "    </tr>\n",
              "    <tr>\n",
              "      <th>4</th>\n",
              "      <td>5</td>\n",
              "      <td>M</td>\n",
              "      <td>A</td>\n",
              "      <td>NaN</td>\n",
              "      <td>65.5</td>\n",
              "      <td>42.72</td>\n",
              "      <td>17</td>\n",
              "      <td>Not placed</td>\n",
              "      <td>h</td>\n",
              "      <td>NaN</td>\n",
              "    </tr>\n",
              "    <tr>\n",
              "      <th>5</th>\n",
              "      <td>6</td>\n",
              "      <td>M</td>\n",
              "      <td>A</td>\n",
              "      <td>81.26</td>\n",
              "      <td>68.0</td>\n",
              "      <td>62.40</td>\n",
              "      <td>6</td>\n",
              "      <td>Not placed</td>\n",
              "      <td>h</td>\n",
              "      <td>NaN</td>\n",
              "    </tr>\n",
              "  </tbody>\n",
              "</table>\n",
              "</div>"
            ],
            "text/plain": [
              "   Roll No Gender  ... hostlers/days scholar  hostler/days scholar\n",
              "0        1      M  ...                     d                   NaN\n",
              "1        2      F  ...                     d                     h\n",
              "2        3      F  ...                     d                   NaN\n",
              "4        5      M  ...                     h                   NaN\n",
              "5        6      M  ...                     h                   NaN\n",
              "\n",
              "[5 rows x 10 columns]"
            ]
          },
          "metadata": {
            "tags": []
          },
          "execution_count": 43
        }
      ]
    },
    {
      "cell_type": "markdown",
      "metadata": {
        "id": "nllL5F4OdJHi",
        "colab_type": "text"
      },
      "source": [
        "## 5) Iterations on dataframe"
      ]
    },
    {
      "cell_type": "markdown",
      "metadata": {
        "id": "wn-xr0PCn5mD",
        "colab_type": "text"
      },
      "source": [
        "Display the roll number and B.tech percentage of students who got more than 80% in B.tech using iterations. ( No need to create a dataframe)\n"
      ]
    },
    {
      "cell_type": "code",
      "metadata": {
        "id": "K3ybvfkmdPYF",
        "colab_type": "code",
        "colab": {
          "base_uri": "https://localhost:8080/",
          "height": 193
        },
        "outputId": "60a39f37-82e8-498c-800a-8a83459a644b"
      },
      "source": [
        "#Let's write a program for iterations on dataframe\n",
        "for index,rows in df[df[\"B.Tech_percentage\"]>=80].iterrows():\n",
        "    print(rows[\"Roll No\"],\"-\",rows[\"B.Tech_percentage\"])"
      ],
      "execution_count": 70,
      "outputs": [
        {
          "output_type": "stream",
          "text": [
            "18 - 85.39\n",
            "18 - 85.39\n",
            "60 - 81.1\n",
            "60 - 81.1\n",
            "71 - 80.47\n",
            "71 - 80.47\n",
            "97 - 88.1\n",
            "97 - 88.1\n",
            "102 - 83.38\n",
            "102 - 83.38\n"
          ],
          "name": "stdout"
        }
      ]
    },
    {
      "cell_type": "markdown",
      "metadata": {
        "id": "Y_FkV4Fvg6gl",
        "colab_type": "text"
      },
      "source": [
        "## 6) Accessing the elements from a dataframe\n"
      ]
    },
    {
      "cell_type": "markdown",
      "metadata": {
        "id": "548HnDgqhEr2",
        "colab_type": "text"
      },
      "source": [
        "### Can you display the SSC and Intermediate percentage of Roll number 2 and 3?\n"
      ]
    },
    {
      "cell_type": "code",
      "metadata": {
        "id": "03Zu-4uehHo_",
        "colab_type": "code",
        "colab": {
          "base_uri": "https://localhost:8080/",
          "height": 106
        },
        "outputId": "204b6017-4f6c-4816-fd75-50b41228a046"
      },
      "source": [
        "df.loc[[1,2],[\"SSC Percentage\",\"inter_Diploma_percentage\"]]"
      ],
      "execution_count": null,
      "outputs": [
        {
          "output_type": "execute_result",
          "data": {
            "text/html": [
              "<div>\n",
              "<style scoped>\n",
              "    .dataframe tbody tr th:only-of-type {\n",
              "        vertical-align: middle;\n",
              "    }\n",
              "\n",
              "    .dataframe tbody tr th {\n",
              "        vertical-align: top;\n",
              "    }\n",
              "\n",
              "    .dataframe thead th {\n",
              "        text-align: right;\n",
              "    }\n",
              "</style>\n",
              "<table border=\"1\" class=\"dataframe\">\n",
              "  <thead>\n",
              "    <tr style=\"text-align: right;\">\n",
              "      <th></th>\n",
              "      <th>SSC Percentage</th>\n",
              "      <th>inter_Diploma_percentage</th>\n",
              "    </tr>\n",
              "  </thead>\n",
              "  <tbody>\n",
              "    <tr>\n",
              "      <th>1</th>\n",
              "      <td>87.3</td>\n",
              "      <td>65.3</td>\n",
              "    </tr>\n",
              "    <tr>\n",
              "      <th>2</th>\n",
              "      <td>89.0</td>\n",
              "      <td>92.4</td>\n",
              "    </tr>\n",
              "  </tbody>\n",
              "</table>\n",
              "</div>"
            ],
            "text/plain": [
              "   SSC Percentage  inter_Diploma_percentage\n",
              "1            87.3                      65.3\n",
              "2            89.0                      92.4"
            ]
          },
          "metadata": {
            "tags": []
          },
          "execution_count": 63
        }
      ]
    },
    {
      "cell_type": "markdown",
      "metadata": {
        "id": "RT0-XFdrirJ_",
        "colab_type": "text"
      },
      "source": [
        "## 7) Different ways to deal with NA’s in dataframe\n"
      ]
    },
    {
      "cell_type": "markdown",
      "metadata": {
        "id": "bNxE1VSbivuf",
        "colab_type": "text"
      },
      "source": [
        "### SSC percentage of roll number is missing. Can you replace the missing value using the mean of SSC percentage?\n"
      ]
    },
    {
      "cell_type": "code",
      "metadata": {
        "id": "nsvWjqwgi0wj",
        "colab_type": "code",
        "colab": {
          "base_uri": "https://localhost:8080/",
          "height": 232
        },
        "outputId": "7b79b5cc-7cbb-499c-9bff-0de58a8dfbf5"
      },
      "source": [
        "import numpy as np\n",
        "import pandas as pd\n",
        "df[\"SSC Percentage\"]=df[\"SSC Percentage\"].replace(to_replace=np.mean(df[\"SSC Percentage\"]))\n",
        "df.head()"
      ],
      "execution_count": null,
      "outputs": [
        {
          "output_type": "execute_result",
          "data": {
            "text/html": [
              "<div>\n",
              "<style scoped>\n",
              "    .dataframe tbody tr th:only-of-type {\n",
              "        vertical-align: middle;\n",
              "    }\n",
              "\n",
              "    .dataframe tbody tr th {\n",
              "        vertical-align: top;\n",
              "    }\n",
              "\n",
              "    .dataframe thead th {\n",
              "        text-align: right;\n",
              "    }\n",
              "</style>\n",
              "<table border=\"1\" class=\"dataframe\">\n",
              "  <thead>\n",
              "    <tr style=\"text-align: right;\">\n",
              "      <th></th>\n",
              "      <th>Roll No</th>\n",
              "      <th>Gender</th>\n",
              "      <th>Section</th>\n",
              "      <th>SSC Percentage</th>\n",
              "      <th>inter_Diploma_percentage</th>\n",
              "      <th>B.Tech_percentage</th>\n",
              "      <th>Backlogs</th>\n",
              "      <th>placement status</th>\n",
              "      <th>hostlers/days scholar</th>\n",
              "      <th>hostler/days scholar</th>\n",
              "      <th>Urban/Rural_x</th>\n",
              "      <th>Urban/Rural_y</th>\n",
              "    </tr>\n",
              "  </thead>\n",
              "  <tbody>\n",
              "    <tr>\n",
              "      <th>0</th>\n",
              "      <td>1</td>\n",
              "      <td>M</td>\n",
              "      <td>A</td>\n",
              "      <td>87.3</td>\n",
              "      <td>65.3</td>\n",
              "      <td>40.20</td>\n",
              "      <td>18</td>\n",
              "      <td>Not placed</td>\n",
              "      <td>d</td>\n",
              "      <td>NaN</td>\n",
              "      <td>Urban</td>\n",
              "      <td>Urban</td>\n",
              "    </tr>\n",
              "    <tr>\n",
              "      <th>1</th>\n",
              "      <td>1</td>\n",
              "      <td>M</td>\n",
              "      <td>A</td>\n",
              "      <td>87.3</td>\n",
              "      <td>65.3</td>\n",
              "      <td>40.25</td>\n",
              "      <td>18</td>\n",
              "      <td>Not placed</td>\n",
              "      <td>d</td>\n",
              "      <td>NaN</td>\n",
              "      <td>Urban</td>\n",
              "      <td>Urban</td>\n",
              "    </tr>\n",
              "    <tr>\n",
              "      <th>2</th>\n",
              "      <td>2</td>\n",
              "      <td>F</td>\n",
              "      <td>A</td>\n",
              "      <td>89.0</td>\n",
              "      <td>92.4</td>\n",
              "      <td>71.45</td>\n",
              "      <td>0</td>\n",
              "      <td>Placed</td>\n",
              "      <td>d</td>\n",
              "      <td>h</td>\n",
              "      <td>Rural</td>\n",
              "      <td>Rural</td>\n",
              "    </tr>\n",
              "    <tr>\n",
              "      <th>3</th>\n",
              "      <td>2</td>\n",
              "      <td>F</td>\n",
              "      <td>A</td>\n",
              "      <td>89.0</td>\n",
              "      <td>92.4</td>\n",
              "      <td>71.45</td>\n",
              "      <td>0</td>\n",
              "      <td>Placed</td>\n",
              "      <td>d</td>\n",
              "      <td>h</td>\n",
              "      <td>Rural</td>\n",
              "      <td>Rural</td>\n",
              "    </tr>\n",
              "    <tr>\n",
              "      <th>4</th>\n",
              "      <td>3</td>\n",
              "      <td>F</td>\n",
              "      <td>A</td>\n",
              "      <td>67.0</td>\n",
              "      <td>68.0</td>\n",
              "      <td>45.46</td>\n",
              "      <td>13</td>\n",
              "      <td>Not placed</td>\n",
              "      <td>d</td>\n",
              "      <td>NaN</td>\n",
              "      <td>Urban</td>\n",
              "      <td>Urban</td>\n",
              "    </tr>\n",
              "  </tbody>\n",
              "</table>\n",
              "</div>"
            ],
            "text/plain": [
              "   Roll No Gender Section  ...  hostler/days scholar  Urban/Rural_x  Urban/Rural_y\n",
              "0        1      M       A  ...                   NaN          Urban          Urban\n",
              "1        1      M       A  ...                   NaN          Urban          Urban\n",
              "2        2      F       A  ...                     h          Rural          Rural\n",
              "3        2      F       A  ...                     h          Rural          Rural\n",
              "4        3      F       A  ...                   NaN          Urban          Urban\n",
              "\n",
              "[5 rows x 12 columns]"
            ]
          },
          "metadata": {
            "tags": []
          },
          "execution_count": 65
        }
      ]
    },
    {
      "cell_type": "markdown",
      "metadata": {
        "id": "GE06Y9pwjqX6",
        "colab_type": "text"
      },
      "source": [
        "## 8) Groupby operations on dataframe"
      ]
    },
    {
      "cell_type": "markdown",
      "metadata": {
        "id": "-QsKQTfkjucv",
        "colab_type": "text"
      },
      "source": [
        "### What is the average B.Tech percentage of Male and Female students? Use Groupby."
      ]
    },
    {
      "cell_type": "code",
      "metadata": {
        "id": "idsp6gG7j0Cb",
        "colab_type": "code",
        "colab": {
          "base_uri": "https://localhost:8080/",
          "height": 87
        },
        "outputId": "121ec03a-6f69-4648-ae90-62d7d2d9082d"
      },
      "source": [
        "import numpy as np\n",
        "import pandas as pd\n",
        "grouped=df.groupby(\"Gender\")\n",
        "grouped[\"B.Tech_percentage\"].agg(np.mean)"
      ],
      "execution_count": null,
      "outputs": [
        {
          "output_type": "execute_result",
          "data": {
            "text/plain": [
              "Gender\n",
              "F    71.277449\n",
              "M    57.495373\n",
              "Name: B.Tech_percentage, dtype: float64"
            ]
          },
          "metadata": {
            "tags": []
          },
          "execution_count": 58
        }
      ]
    },
    {
      "cell_type": "markdown",
      "metadata": {
        "id": "aDdFYP0VkWCp",
        "colab_type": "text"
      },
      "source": [
        "## 9) Merging the dataframes"
      ]
    },
    {
      "cell_type": "markdown",
      "metadata": {
        "id": "r6J6w2vAkZ6t",
        "colab_type": "text"
      },
      "source": [
        "### There is another file urban_rural.csv from the above link having information about student's place information (Urban/rural). Can you merge the dataframe with the student's data?"
      ]
    },
    {
      "cell_type": "code",
      "metadata": {
        "id": "yafHpdbxkg0p",
        "colab_type": "code",
        "colab": {
          "base_uri": "https://localhost:8080/",
          "height": 195
        },
        "outputId": "38bb3eb6-43ce-4fbf-a625-4f4176a4fb78"
      },
      "source": [
        "import pandas as pd\n",
        "df2=pd.read_csv(\"urban_rural.csv\")\n",
        "df2.head()"
      ],
      "execution_count": null,
      "outputs": [
        {
          "output_type": "execute_result",
          "data": {
            "text/html": [
              "<div>\n",
              "<style scoped>\n",
              "    .dataframe tbody tr th:only-of-type {\n",
              "        vertical-align: middle;\n",
              "    }\n",
              "\n",
              "    .dataframe tbody tr th {\n",
              "        vertical-align: top;\n",
              "    }\n",
              "\n",
              "    .dataframe thead th {\n",
              "        text-align: right;\n",
              "    }\n",
              "</style>\n",
              "<table border=\"1\" class=\"dataframe\">\n",
              "  <thead>\n",
              "    <tr style=\"text-align: right;\">\n",
              "      <th></th>\n",
              "      <th>Roll No</th>\n",
              "      <th>Urban/Rural</th>\n",
              "    </tr>\n",
              "  </thead>\n",
              "  <tbody>\n",
              "    <tr>\n",
              "      <th>0</th>\n",
              "      <td>1</td>\n",
              "      <td>Urban</td>\n",
              "    </tr>\n",
              "    <tr>\n",
              "      <th>1</th>\n",
              "      <td>2</td>\n",
              "      <td>Rural</td>\n",
              "    </tr>\n",
              "    <tr>\n",
              "      <th>2</th>\n",
              "      <td>6</td>\n",
              "      <td>Rural</td>\n",
              "    </tr>\n",
              "    <tr>\n",
              "      <th>3</th>\n",
              "      <td>7</td>\n",
              "      <td>Urban</td>\n",
              "    </tr>\n",
              "    <tr>\n",
              "      <th>4</th>\n",
              "      <td>8</td>\n",
              "      <td>Urban</td>\n",
              "    </tr>\n",
              "  </tbody>\n",
              "</table>\n",
              "</div>"
            ],
            "text/plain": [
              "   Roll No Urban/Rural\n",
              "0        1       Urban\n",
              "1        2       Rural\n",
              "2        6       Rural\n",
              "3        7       Urban\n",
              "4        8       Urban"
            ]
          },
          "metadata": {
            "tags": []
          },
          "execution_count": 59
        }
      ]
    },
    {
      "cell_type": "code",
      "metadata": {
        "id": "MnkPpG31k-w6",
        "colab_type": "code",
        "colab": {
          "base_uri": "https://localhost:8080/",
          "height": 232
        },
        "outputId": "54ba8452-b8a2-46fe-cadd-42939a3a4253"
      },
      "source": [
        "df=pd.merge(df,df2,on='Roll No')\n",
        "df.head()"
      ],
      "execution_count": null,
      "outputs": [
        {
          "output_type": "execute_result",
          "data": {
            "text/html": [
              "<div>\n",
              "<style scoped>\n",
              "    .dataframe tbody tr th:only-of-type {\n",
              "        vertical-align: middle;\n",
              "    }\n",
              "\n",
              "    .dataframe tbody tr th {\n",
              "        vertical-align: top;\n",
              "    }\n",
              "\n",
              "    .dataframe thead th {\n",
              "        text-align: right;\n",
              "    }\n",
              "</style>\n",
              "<table border=\"1\" class=\"dataframe\">\n",
              "  <thead>\n",
              "    <tr style=\"text-align: right;\">\n",
              "      <th></th>\n",
              "      <th>Roll No</th>\n",
              "      <th>Gender</th>\n",
              "      <th>Section</th>\n",
              "      <th>SSC Percentage</th>\n",
              "      <th>inter_Diploma_percentage</th>\n",
              "      <th>B.Tech_percentage</th>\n",
              "      <th>Backlogs</th>\n",
              "      <th>placement status</th>\n",
              "      <th>hostlers/days scholar</th>\n",
              "      <th>hostler/days scholar</th>\n",
              "      <th>Urban/Rural_x</th>\n",
              "      <th>Urban/Rural_y</th>\n",
              "    </tr>\n",
              "  </thead>\n",
              "  <tbody>\n",
              "    <tr>\n",
              "      <th>0</th>\n",
              "      <td>1</td>\n",
              "      <td>M</td>\n",
              "      <td>A</td>\n",
              "      <td>87.3</td>\n",
              "      <td>65.3</td>\n",
              "      <td>40.20</td>\n",
              "      <td>18</td>\n",
              "      <td>Not placed</td>\n",
              "      <td>d</td>\n",
              "      <td>NaN</td>\n",
              "      <td>Urban</td>\n",
              "      <td>Urban</td>\n",
              "    </tr>\n",
              "    <tr>\n",
              "      <th>1</th>\n",
              "      <td>1</td>\n",
              "      <td>M</td>\n",
              "      <td>A</td>\n",
              "      <td>87.3</td>\n",
              "      <td>65.3</td>\n",
              "      <td>40.25</td>\n",
              "      <td>18</td>\n",
              "      <td>Not placed</td>\n",
              "      <td>d</td>\n",
              "      <td>NaN</td>\n",
              "      <td>Urban</td>\n",
              "      <td>Urban</td>\n",
              "    </tr>\n",
              "    <tr>\n",
              "      <th>2</th>\n",
              "      <td>2</td>\n",
              "      <td>F</td>\n",
              "      <td>A</td>\n",
              "      <td>89.0</td>\n",
              "      <td>92.4</td>\n",
              "      <td>71.45</td>\n",
              "      <td>0</td>\n",
              "      <td>Placed</td>\n",
              "      <td>d</td>\n",
              "      <td>h</td>\n",
              "      <td>Rural</td>\n",
              "      <td>Rural</td>\n",
              "    </tr>\n",
              "    <tr>\n",
              "      <th>3</th>\n",
              "      <td>2</td>\n",
              "      <td>F</td>\n",
              "      <td>A</td>\n",
              "      <td>89.0</td>\n",
              "      <td>92.4</td>\n",
              "      <td>71.45</td>\n",
              "      <td>0</td>\n",
              "      <td>Placed</td>\n",
              "      <td>d</td>\n",
              "      <td>h</td>\n",
              "      <td>Rural</td>\n",
              "      <td>Rural</td>\n",
              "    </tr>\n",
              "    <tr>\n",
              "      <th>4</th>\n",
              "      <td>3</td>\n",
              "      <td>F</td>\n",
              "      <td>A</td>\n",
              "      <td>67.0</td>\n",
              "      <td>68.0</td>\n",
              "      <td>45.46</td>\n",
              "      <td>13</td>\n",
              "      <td>Not placed</td>\n",
              "      <td>d</td>\n",
              "      <td>NaN</td>\n",
              "      <td>Urban</td>\n",
              "      <td>Urban</td>\n",
              "    </tr>\n",
              "  </tbody>\n",
              "</table>\n",
              "</div>"
            ],
            "text/plain": [
              "   Roll No Gender Section  ...  hostler/days scholar  Urban/Rural_x  Urban/Rural_y\n",
              "0        1      M       A  ...                   NaN          Urban          Urban\n",
              "1        1      M       A  ...                   NaN          Urban          Urban\n",
              "2        2      F       A  ...                     h          Rural          Rural\n",
              "3        2      F       A  ...                     h          Rural          Rural\n",
              "4        3      F       A  ...                   NaN          Urban          Urban\n",
              "\n",
              "[5 rows x 12 columns]"
            ]
          },
          "metadata": {
            "tags": []
          },
          "execution_count": 61
        }
      ]
    }
  ]
}