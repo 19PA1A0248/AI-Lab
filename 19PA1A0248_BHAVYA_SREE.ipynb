{
  "nbformat": 4,
  "nbformat_minor": 0,
  "metadata": {
    "colab": {
      "name": "19PA1A0248 BHAVYA SREE.ipynb",
      "provenance": [],
      "collapsed_sections": [],
      "authorship_tag": "ABX9TyMYq91ELX5dy9NVbP1EPzy1",
      "include_colab_link": true
    },
    "kernelspec": {
      "name": "python3",
      "display_name": "Python 3"
    }
  },
  "cells": [
    {
      "cell_type": "markdown",
      "metadata": {
        "id": "view-in-github",
        "colab_type": "text"
      },
      "source": [
        "<a href=\"https://colab.research.google.com/github/19PA1A0248/AI-Lab/blob/master/19PA1A0248_BHAVYA_SREE.ipynb\" target=\"_parent\"><img src=\"https://colab.research.google.com/assets/colab-badge.svg\" alt=\"Open In Colab\"/></a>"
      ]
    },
    {
      "cell_type": "markdown",
      "metadata": {
        "id": "Sr9dYfltAoPJ",
        "colab_type": "text"
      },
      "source": [
        "\n",
        "#EXPERIMENT NO:-1 (NUMPY)\n"
      ]
    },
    {
      "cell_type": "markdown",
      "metadata": {
        "id": "kY8BgRKQiRsU",
        "colab_type": "text"
      },
      "source": [
        "## i) Different ways to create numpy arrays"
      ]
    },
    {
      "cell_type": "markdown",
      "metadata": {
        "id": "A8vYt7UJ6RcT",
        "colab_type": "text"
      },
      "source": [
        "### method-1 to create NumPy arrays using lists\n"
      ]
    },
    {
      "cell_type": "code",
      "metadata": {
        "id": "hjVV6IT-ibFC",
        "colab_type": "code",
        "colab": {
          "base_uri": "https://localhost:8080/",
          "height": 34
        },
        "outputId": "5622edb8-6dcf-4d04-d820-00303c6caa9d"
      },
      "source": [
        "import numpy as np\n",
        "a = np.array([22,4,7]) #1-dimensional array\n",
        "print(a)"
      ],
      "execution_count": null,
      "outputs": [
        {
          "output_type": "stream",
          "text": [
            "[22  4  7]\n"
          ],
          "name": "stdout"
        }
      ]
    },
    {
      "cell_type": "markdown",
      "metadata": {
        "id": "WAOHrqQ_6fDb",
        "colab_type": "text"
      },
      "source": [
        "### method-2 to create NumPy arrays"
      ]
    },
    {
      "cell_type": "code",
      "metadata": {
        "id": "5JWN4KLri-cT",
        "colab_type": "code",
        "colab": {
          "base_uri": "https://localhost:8080/",
          "height": 70
        },
        "outputId": "39315f26-497e-447f-b58d-23be5a91aaea"
      },
      "source": [
        "\n",
        "import numpy as np\n",
        "b = np.arange(55)\n",
        "print(b)"
      ],
      "execution_count": null,
      "outputs": [
        {
          "output_type": "stream",
          "text": [
            "[ 0  1  2  3  4  5  6  7  8  9 10 11 12 13 14 15 16 17 18 19 20 21 22 23\n",
            " 24 25 26 27 28 29 30 31 32 33 34 35 36 37 38 39 40 41 42 43 44 45 46 47\n",
            " 48 49 50 51 52 53 54]\n"
          ],
          "name": "stdout"
        }
      ]
    },
    {
      "cell_type": "markdown",
      "metadata": {
        "id": "QMaN_w306wmL",
        "colab_type": "text"
      },
      "source": [
        "### method-3 to create NumPy arrays"
      ]
    },
    {
      "cell_type": "code",
      "metadata": {
        "id": "IlgUYDqvk5YJ",
        "colab_type": "code",
        "colab": {
          "base_uri": "https://localhost:8080/",
          "height": 52
        },
        "outputId": "27f41118-fb37-4127-92e0-427a05a74993"
      },
      "source": [
        "\n",
        "import numpy as np\n",
        "c = np.array([(22,4,48), (44,36,9)]) #2-dimensional arrays\n",
        "print(c)"
      ],
      "execution_count": null,
      "outputs": [
        {
          "output_type": "stream",
          "text": [
            "[[22  4 48]\n",
            " [44 36  9]]\n"
          ],
          "name": "stdout"
        }
      ]
    },
    {
      "cell_type": "markdown",
      "metadata": {
        "id": "f43-V6Wm63H3",
        "colab_type": "text"
      },
      "source": [
        "### method-4 creates an arrays of all zero "
      ]
    },
    {
      "cell_type": "code",
      "metadata": {
        "id": "Io8HSmAdxQFk",
        "colab_type": "code",
        "colab": {
          "base_uri": "https://localhost:8080/",
          "height": 70
        },
        "outputId": "08885168-ac08-44ac-a917-8bf8339c4c66"
      },
      "source": [
        "\n",
        "np.zeros( (3,4) ) \n"
      ],
      "execution_count": null,
      "outputs": [
        {
          "output_type": "execute_result",
          "data": {
            "text/plain": [
              "array([[0., 0., 0., 0.],\n",
              "       [0., 0., 0., 0.],\n",
              "       [0., 0., 0., 0.]])"
            ]
          },
          "metadata": {
            "tags": []
          },
          "execution_count": 5
        }
      ]
    },
    {
      "cell_type": "markdown",
      "metadata": {
        "id": "4Ge0_HQO7LSb",
        "colab_type": "text"
      },
      "source": [
        "### method-5 creates an array of all ones. dtype can also be specified"
      ]
    },
    {
      "cell_type": "code",
      "metadata": {
        "id": "FgiPaGz7xf4o",
        "colab_type": "code",
        "colab": {
          "base_uri": "https://localhost:8080/",
          "height": 52
        },
        "outputId": "2c30c13f-dd97-4d68-ce98-cab6ac309902"
      },
      "source": [
        "\n",
        "np.ones( (2,3), dtype=np.int16 ) \n"
      ],
      "execution_count": null,
      "outputs": [
        {
          "output_type": "execute_result",
          "data": {
            "text/plain": [
              "array([[1, 1, 1],\n",
              "       [1, 1, 1]], dtype=int16)"
            ]
          },
          "metadata": {
            "tags": []
          },
          "execution_count": 6
        }
      ]
    },
    {
      "cell_type": "markdown",
      "metadata": {
        "id": "B7W8NAvbm1Pq",
        "colab_type": "text"
      },
      "source": [
        "## ii) Add, remove, modify elements in an array\n"
      ]
    },
    {
      "cell_type": "markdown",
      "metadata": {
        "id": "-MID3-017rW7",
        "colab_type": "text"
      },
      "source": [
        "### adding elements in an array"
      ]
    },
    {
      "cell_type": "code",
      "metadata": {
        "id": "YH0bBRIPm_jO",
        "colab_type": "code",
        "colab": {
          "base_uri": "https://localhost:8080/",
          "height": 34
        },
        "outputId": "d02e285c-7f63-46bf-990d-d5949517b412"
      },
      "source": [
        "\n",
        "import numpy as np\n",
        "a = np.array([22,4])\n",
        "b = np.append(a, [48])\n",
        "print(b)"
      ],
      "execution_count": null,
      "outputs": [
        {
          "output_type": "stream",
          "text": [
            "[22  4 48]\n"
          ],
          "name": "stdout"
        }
      ]
    },
    {
      "cell_type": "markdown",
      "metadata": {
        "id": "woKf5EXv72q8",
        "colab_type": "text"
      },
      "source": [
        "### removing elements in an array"
      ]
    },
    {
      "cell_type": "code",
      "metadata": {
        "id": "cRSiaPVEsOvF",
        "colab_type": "code",
        "colab": {
          "base_uri": "https://localhost:8080/",
          "height": 34
        },
        "outputId": "380dffef-0990-4cb3-f290-0ec3a87f6318"
      },
      "source": [
        "\n",
        "import numpy as np\n",
        "x = np.array([22,4,48,44,36,9,7,45,46])\n",
        "new_x = np.delete(x,[3,4,5])\n",
        "print(new_x)"
      ],
      "execution_count": null,
      "outputs": [
        {
          "output_type": "stream",
          "text": [
            "[22  4 48  7 45 46]\n"
          ],
          "name": "stdout"
        }
      ]
    },
    {
      "cell_type": "markdown",
      "metadata": {
        "id": "9XxSh6Kt8NHH",
        "colab_type": "text"
      },
      "source": [
        "### modifying elements in an array "
      ]
    },
    {
      "cell_type": "code",
      "metadata": {
        "id": "wlJpastYtYVm",
        "colab_type": "code",
        "colab": {
          "base_uri": "https://localhost:8080/",
          "height": 34
        },
        "outputId": "b5f09072-05af-4587-bfdc-c5c31df0705d"
      },
      "source": [
        "\n",
        "import numpy as np\n",
        "x = np.array([22,4,48,44,36,9,7,45,46])\n",
        "x[[3,4,5]] = [10,32,27]\n",
        "print(x)"
      ],
      "execution_count": null,
      "outputs": [
        {
          "output_type": "stream",
          "text": [
            "[22  4 48 10 32 27  7 45 46]\n"
          ],
          "name": "stdout"
        }
      ]
    },
    {
      "cell_type": "markdown",
      "metadata": {
        "id": "kXFnxDJEY01b",
        "colab_type": "text"
      },
      "source": [
        "## iii) Arithmetic operations on NumPy arrays\n",
        "\n"
      ]
    },
    {
      "cell_type": "code",
      "metadata": {
        "id": "qwPOy1aEZL4f",
        "colab_type": "code",
        "colab": {
          "base_uri": "https://localhost:8080/",
          "height": 140
        },
        "outputId": "c144a915-55df-4624-bb6a-e98afb5a2f58"
      },
      "source": [
        "import numpy as np\n",
        "# Let's create two arrays\n",
        "a = np.array( [22,4,7,48] )\n",
        "b = np.arange( 4 )\n",
        "print(a)\n",
        "print(b)\n",
        "\n",
        "c = a-b # Simple substraction\n",
        "print(c)\n",
        "\n",
        "print(b**2) # Scalar multiplication(power)\n",
        "\n",
        "print(10*np.sin(a)) # trignometric functions are available in numpy package\n",
        "\n",
        "print(a<35) # Retuns true (or) false based on condition\n",
        "\n",
        "a[0] +=10 # This is equalient to a[0]=a[0]+10\n",
        "\n",
        "print(a)\n"
      ],
      "execution_count": null,
      "outputs": [
        {
          "output_type": "stream",
          "text": [
            "[22  4  7 48]\n",
            "[0 1 2 3]\n",
            "[22  3  5 45]\n",
            "[0 1 4 9]\n",
            "[-0.08851309 -7.56802495  6.56986599 -7.68254661]\n",
            "[ True  True  True False]\n",
            "[32  4  7 48]\n"
          ],
          "name": "stdout"
        }
      ]
    },
    {
      "cell_type": "markdown",
      "metadata": {
        "id": "xl0Gt2FGbJ8F",
        "colab_type": "text"
      },
      "source": [
        "\n",
        "\n",
        "\n",
        "## iv) Slicing and Iterating of arrays\n"
      ]
    },
    {
      "cell_type": "markdown",
      "metadata": {
        "id": "8EQTEMgq8oKU",
        "colab_type": "text"
      },
      "source": [
        "### Slicing of arrays:-"
      ]
    },
    {
      "cell_type": "code",
      "metadata": {
        "id": "3G6v141Ab7hO",
        "colab_type": "code",
        "colab": {
          "base_uri": "https://localhost:8080/",
          "height": 158
        },
        "outputId": "80c74028-9ced-4e46-8e23-9b0862e0ba12"
      },
      "source": [
        "import numpy as np\n",
        "# Slicing a 1-D array\n",
        "\n",
        "a=np.arange(22)**3\n",
        "print(a)\n",
        "\n",
        "print(a[4]) # Prints the element at index 4. i.e 5th element of the array a\n",
        "print(a[4:7]) # Prints the element from index 4 to index 6. Note that a[4:7] means elements from 4 upto 7 (But not including 7).\n",
        "print(a[4:5]) # Note that this returns an array with 1 element. But a[5] returns a scalar element\n",
        "\n",
        "#Slicing using -ve indexing\n",
        "\n",
        "print(a[-1]) # prints last element\n",
        "print(a[-2]) # prints last but element\n",
        "print(a[-5:-2]) # prints 5th ,6th and 7th element. i.e -5,-4,-3\n",
        "\n"
      ],
      "execution_count": null,
      "outputs": [
        {
          "output_type": "stream",
          "text": [
            "[   0    1    8   27   64  125  216  343  512  729 1000 1331 1728 2197\n",
            " 2744 3375 4096 4913 5832 6859 8000 9261]\n",
            "64\n",
            "[ 64 125 216]\n",
            "[64]\n",
            "9261\n",
            "8000\n",
            "[4913 5832 6859]\n"
          ],
          "name": "stdout"
        }
      ]
    },
    {
      "cell_type": "markdown",
      "metadata": {
        "id": "HX974b2D80Sl",
        "colab_type": "text"
      },
      "source": [
        "### iterating elements in a array:-"
      ]
    },
    {
      "cell_type": "code",
      "metadata": {
        "id": "HNBEwdppvgXj",
        "colab_type": "code",
        "colab": {
          "base_uri": "https://localhost:8080/",
          "height": 158
        },
        "outputId": "5f28d658-25f8-40f2-9d21-eece6d54a608"
      },
      "source": [
        "\n",
        "import numpy as np\n",
        "a=np.arange(12).reshape(4,3)**2 # Create an array \"a\" with square of numbers from 0 to 11.\n",
        "print(a)\n",
        "\n",
        "for i in a:\n",
        "    print(i)\n"
      ],
      "execution_count": null,
      "outputs": [
        {
          "output_type": "stream",
          "text": [
            "[[  0   1   4]\n",
            " [  9  16  25]\n",
            " [ 36  49  64]\n",
            " [ 81 100 121]]\n",
            "[0 1 4]\n",
            "[ 9 16 25]\n",
            "[36 49 64]\n",
            "[ 81 100 121]\n"
          ],
          "name": "stdout"
        }
      ]
    },
    {
      "cell_type": "markdown",
      "metadata": {
        "id": "1hp662Hce8mh",
        "colab_type": "text"
      },
      "source": [
        "## v) Matrix operations on NumPy arrays"
      ]
    },
    {
      "cell_type": "code",
      "metadata": {
        "id": "ATuvfyQmfeY7",
        "colab_type": "code",
        "colab": {
          "base_uri": "https://localhost:8080/",
          "height": 158
        },
        "outputId": "eaf2403c-7130-48cb-f1ba-346cf3cdee73"
      },
      "source": [
        "import numpy as np\n",
        "a = np.array( [[22,4],[48,22]] )\n",
        "b = np.array( [[7,7],[48,4]] )\n",
        "\n",
        "print(np.add(a,b))  # adding of matrices\n",
        "\n",
        "print(np.subtract(a,b))  # subtraction of matrices\n",
        "\n",
        "print(np.multiply(a,b)) # product of matrices\n",
        "\n",
        "print(np.divide(a,b)) # division of matrices\n"
      ],
      "execution_count": null,
      "outputs": [
        {
          "output_type": "stream",
          "text": [
            "[[29 11]\n",
            " [96 26]]\n",
            "[[15 -3]\n",
            " [ 0 18]]\n",
            "[[ 154   28]\n",
            " [2304   88]]\n",
            "[[3.14285714 0.57142857]\n",
            " [1.         5.5       ]]\n"
          ],
          "name": "stdout"
        }
      ]
    }
  ]
}